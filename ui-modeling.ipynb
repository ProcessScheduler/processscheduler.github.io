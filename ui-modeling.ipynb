{
 "cells": [
  {
   "cell_type": "markdown",
   "id": "previous-macintosh",
   "metadata": {},
   "source": [
    "# A jupyter/voila user interface for ProcessScheduler modeling"
   ]
  },
  {
   "cell_type": "code",
   "execution_count": 1,
   "id": "fatty-executive",
   "metadata": {},
   "outputs": [
    {
     "ename": "ImportError",
     "evalue": "cannot import name 'ConstantCostPerPeriod' from 'processscheduler.cost' (/home/thomas/miniconda3/envs/PP/lib/python3.9/site-packages/ProcessScheduler-0.9.3-py3.9.egg/processscheduler/cost.py)",
     "output_type": "error",
     "traceback": [
      "\u001b[0;31m---------------------------------------------------------------------------\u001b[0m",
      "\u001b[0;31mImportError\u001b[0m                               Traceback (most recent call last)",
      "Cell \u001b[0;32mIn[1], line 2\u001b[0m\n\u001b[1;32m      1\u001b[0m get_ipython()\u001b[38;5;241m.\u001b[39mrun_line_magic(\u001b[38;5;124m'\u001b[39m\u001b[38;5;124mmatplotlib\u001b[39m\u001b[38;5;124m'\u001b[39m, \u001b[38;5;124m'\u001b[39m\u001b[38;5;124mwidget\u001b[39m\u001b[38;5;124m'\u001b[39m)\n\u001b[0;32m----> 2\u001b[0m \u001b[38;5;28;01mimport\u001b[39;00m \u001b[38;5;21;01mprocessscheduler\u001b[39;00m\u001b[38;5;21;01m.\u001b[39;00m\u001b[38;5;21;01mjupyter_ui\u001b[39;00m \u001b[38;5;28;01mas\u001b[39;00m \u001b[38;5;21;01mgui\u001b[39;00m\n",
      "File \u001b[0;32m<frozen zipimport>:259\u001b[0m, in \u001b[0;36mload_module\u001b[0;34m(self, fullname)\u001b[0m\n",
      "File \u001b[0;32m~/miniconda3/envs/PP/lib/python3.9/site-packages/ProcessScheduler-0.9.3-py3.9.egg/processscheduler/jupyter_ui.py:47\u001b[0m\n\u001b[1;32m     23\u001b[0m \u001b[38;5;28;01mfrom\u001b[39;00m \u001b[38;5;21;01mprocessscheduler\u001b[39;00m\u001b[38;5;21;01m.\u001b[39;00m\u001b[38;5;21;01mtask_constraint\u001b[39;00m \u001b[38;5;28;01mimport\u001b[39;00m (\n\u001b[1;32m     24\u001b[0m     TaskPrecedence,\n\u001b[1;32m     25\u001b[0m     TasksStartSynced,\n\u001b[0;32m   (...)\u001b[0m\n\u001b[1;32m     39\u001b[0m     TaskLoadBuffer,\n\u001b[1;32m     40\u001b[0m )\n\u001b[1;32m     41\u001b[0m \u001b[38;5;28;01mfrom\u001b[39;00m \u001b[38;5;21;01mprocessscheduler\u001b[39;00m\u001b[38;5;21;01m.\u001b[39;00m\u001b[38;5;21;01mresource_constraint\u001b[39;00m \u001b[38;5;28;01mimport\u001b[39;00m (\n\u001b[1;32m     42\u001b[0m     WorkLoad,\n\u001b[1;32m     43\u001b[0m     ResourceUnavailable,\n\u001b[1;32m     44\u001b[0m     DistinctWorkers,\n\u001b[1;32m     45\u001b[0m     SameWorkers,\n\u001b[1;32m     46\u001b[0m )\n\u001b[0;32m---> 47\u001b[0m \u001b[38;5;28;01mfrom\u001b[39;00m \u001b[38;5;21;01mprocessscheduler\u001b[39;00m\u001b[38;5;21;01m.\u001b[39;00m\u001b[38;5;21;01mcost\u001b[39;00m \u001b[38;5;28;01mimport\u001b[39;00m ConstantCostPerPeriod\n\u001b[1;32m     48\u001b[0m \u001b[38;5;28;01mfrom\u001b[39;00m \u001b[38;5;21;01mprocessscheduler\u001b[39;00m\u001b[38;5;21;01m.\u001b[39;00m\u001b[38;5;21;01msolver\u001b[39;00m \u001b[38;5;28;01mimport\u001b[39;00m SchedulingSolver\n\u001b[1;32m     50\u001b[0m \u001b[38;5;28;01mimport\u001b[39;00m \u001b[38;5;21;01misodate\u001b[39;00m\n",
      "\u001b[0;31mImportError\u001b[0m: cannot import name 'ConstantCostPerPeriod' from 'processscheduler.cost' (/home/thomas/miniconda3/envs/PP/lib/python3.9/site-packages/ProcessScheduler-0.9.3-py3.9.egg/processscheduler/cost.py)"
     ]
    }
   ],
   "source": [
    "%matplotlib widget\n",
    "import processscheduler.jupyter_ui as gui"
   ]
  },
  {
   "cell_type": "markdown",
   "id": "surrounded-technique",
   "metadata": {},
   "source": [
    "## Problem\n",
    "The problem name is a mandatory parameter. If you check the *Set horizon* box, then enter an integer in the *Horizon* field. If you don't, the solver will suggest an horizon that satisfied the constraints.\n",
    "\n",
    "The *Time* fields format must be ISO date strings. For example, the *Start Time* can be `2021-05-5T10:00` and *Delta Time* for example `PT1H` (one hour)."
   ]
  },
  {
   "cell_type": "code",
   "execution_count": null,
   "id": "agreed-snake",
   "metadata": {
    "scrolled": true
   },
   "outputs": [],
   "source": [
    "gui.problem_ui"
   ]
  },
  {
   "cell_type": "markdown",
   "id": "floppy-interaction",
   "metadata": {},
   "source": [
    "## Resources\n",
    "The *Size* field is relevant and mandatory for *CumulativeWorker* only. The *Size* is defined as the number of concurrent tasks a *CumulativeWorker* can process.\n",
    "\n",
    "*Cost per period* and *Productivity* are optional parameters for both resource types. There is no upper bound for these two parameters. The *Productivity* is defined as the quantity of work a resource can process per time period."
   ]
  },
  {
   "cell_type": "code",
   "execution_count": null,
   "id": "mature-wisdom",
   "metadata": {},
   "outputs": [],
   "source": [
    "gui.resource_ui"
   ]
  },
  {
   "cell_type": "markdown",
   "id": "presidential-bahrain",
   "metadata": {},
   "source": [
    "## Tasks\n",
    "The *Duration* parameter is mandatory and relevant for *FixedDurationTask*s only.\n",
    "\n",
    "*Priority* and *Work amount* are optional parameters for all task types. A task with a higher priority will (certainly) be scheduled *before* a task with a lower priority (note that there is no upper bound for this parameter, it's up to you to decide the value), unless there is another stronger constraint.\n",
    "\n",
    "The *Work Amount* is defined as the total quantity of work to perform during the task duration. It is related to the *Productivity/Period* parameter of a resource (see above).\n",
    "\n",
    "Any *Task* can be set as *Optional* by clicking the check box. An *Optional* task may or may not be scheduled according to the constraints."
   ]
  },
  {
   "cell_type": "code",
   "execution_count": null,
   "id": "intensive-handling",
   "metadata": {},
   "outputs": [],
   "source": [
    "gui.task_ui"
   ]
  },
  {
   "cell_type": "markdown",
   "id": "ambient-lewis",
   "metadata": {},
   "source": [
    "## Resource assignment and Constraints\n",
    "Resources an Tasks appear in the list boxes below.\n",
    "\n",
    "You can add constraints on resources: choose the type (e.g. TaskPrecedence) and click the \"Create resource constraint button.\n",
    "\n",
    "In a similar way, you can create tasks constraints (e.g. TaskPrecedence).\n",
    "\n",
    "A resource assignment to a task represents the fact that one (or more) resource(s) *is (are) able and required to* process the task. If many resources can process the same task, just assign the resources list as a *SelectWorker*, the solver will decide which resource to assign to the task."
   ]
  },
  {
   "cell_type": "code",
   "execution_count": null,
   "id": "raised-cheat",
   "metadata": {},
   "outputs": [],
   "source": [
    "gui.constraint_ui"
   ]
  },
  {
   "cell_type": "markdown",
   "id": "daily-sandwich",
   "metadata": {},
   "source": [
    "## Optimizations\n",
    "The optimization API is quite rich. In this simple UI, only a set of usual optimizations is available. Click the checkbox to enable the related optimization computation. You *can* click more than one box : this turns the problem into a multi-objective optimization solver. Note that some of the optimization objectives below may conflict.\n",
    "\n",
    "The *Priority* is an optional parameter. Is is relevant only if the problem involves a multi-objective optimization."
   ]
  },
  {
   "cell_type": "code",
   "execution_count": null,
   "id": "spanish-friday",
   "metadata": {},
   "outputs": [],
   "source": [
    "gui.optimization_ui"
   ]
  },
  {
   "cell_type": "markdown",
   "id": "aging-montreal",
   "metadata": {},
   "source": [
    "## Solve and render\n",
    "The *Max time* is the maximum time allowed for the solver to find a solution. If ever the computation time exceeds this value, then no solution is found. You should then increase this max time and solve a second time.\n",
    "\n",
    "Check the *Debug* box if you want a verbose output.\n",
    "\n",
    "The *Parallel* check box tells the solver to run in multitask mode. Performances *may be* better, but it strongly depends on your problem."
   ]
  },
  {
   "cell_type": "code",
   "execution_count": null,
   "id": "muslim-certification",
   "metadata": {},
   "outputs": [],
   "source": [
    "gui.solver_ui"
   ]
  }
 ],
 "metadata": {
  "kernelspec": {
   "display_name": "Python 3 (ipykernel)",
   "language": "python",
   "name": "python3"
  },
  "language_info": {
   "codemirror_mode": {
    "name": "ipython",
    "version": 3
   },
   "file_extension": ".py",
   "mimetype": "text/x-python",
   "name": "python",
   "nbconvert_exporter": "python",
   "pygments_lexer": "ipython3",
   "version": "3.9.0"
  }
 },
 "nbformat": 4,
 "nbformat_minor": 5
}
